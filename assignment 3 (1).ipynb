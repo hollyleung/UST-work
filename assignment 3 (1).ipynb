{
 "cells": [
  {
   "cell_type": "code",
   "execution_count": 1,
   "metadata": {},
   "outputs": [],
   "source": [
    "import numpy as np  \n",
    "import scipy.stats as st\n",
    "import matplotlib.pyplot as plt   \n",
    "import pandas as pd \n",
    "import matplotlib"
   ]
  },
  {
   "cell_type": "code",
   "execution_count": 44,
   "metadata": {},
   "outputs": [
    {
     "name": "stdout",
     "output_type": "stream",
     "text": [
      "question a:\n",
      "The sample correlation above is 0.7583731140934423\n",
      "the difference is small, which is 0.05126633290689486\n",
      "It is close to my answer in the wrtten assignment 0.7071067811865475\n"
     ]
    }
   ],
   "source": [
    "print(\"question a:\")\n",
    "a = 0\n",
    "b = 1\n",
    "n = 100\n",
    "\n",
    "#Generate 100 samples of (x,Y)\n",
    "X = np.random.normal(a, b, n)\n",
    "Z = np.random.normal(a, b, n)\n",
    "Y = X + Z\n",
    "\n",
    "#compute the sample correlation\n",
    "mean_x = np.mean(X)\n",
    "mean_y = np.mean(Y)\n",
    "sd_x = np.std(X)\n",
    "sd_y = np.std(Y)\n",
    "r = np.sum((X-mean_x)*(Y-mean_y))/((n-1)*sd_x*sd_y)\n",
    "\n",
    "#compare it with the theoretical value you calculated from Written Assignment 3, Q3\n",
    "ans = 1/np.sqrt(2)\n",
    "diff= r - ans\n",
    "print(\"The sample correlation above is\", r,)\n",
    "\n",
    "print('the difference is small, which is', diff)\n",
    "print(\"It is close to my answer in the wrtten assignment\" , ans )"
   ]
  },
  {
   "cell_type": "code",
   "execution_count": 9,
   "metadata": {},
   "outputs": [
    {
     "name": "stdout",
     "output_type": "stream",
     "text": [
      "The sample correlation of X and Y is 0.7052466655766567\n"
     ]
    }
   ],
   "source": []
  },
  {
   "cell_type": "code",
   "execution_count": 14,
   "metadata": {},
   "outputs": [
    {
     "name": "stdout",
     "output_type": "stream",
     "text": [
      "the difference is small, which is -0.0018601156098907445\n",
      "The sample correlation above is 0.7052466655766567 It is close to my answer in the wrttenassignment 0.7071067811865475\n"
     ]
    }
   ],
   "source": []
  },
  {
   "cell_type": "code",
   "execution_count": 39,
   "metadata": {
    "scrolled": true
   },
   "outputs": [
    {
     "name": "stdout",
     "output_type": "stream",
     "text": [
      "Question b:\n",
      "The sample correlation of the sample mean and sample variance from the samples is 0.018461441050506604 .\n"
     ]
    }
   ],
   "source": [
    "print(\"Question b:\")\n",
    "a = 0\n",
    "b = 1\n",
    "n = 10\n",
    "N = 1000\n",
    "\n",
    "\n",
    "mean = np.zeros(N)\n",
    "var = np.zeros(N)\n",
    "\n",
    "#Then repeat the above for 1000 iterations.\n",
    "for i in np.arange(N):\n",
    "    #Generate standard normal random sample, \n",
    "    sam = np.random.normal(a, b, n)\n",
    "    #calculate the sample mean and sample variance from the samples. \n",
    "    mean_sam = np.mean(sam) \n",
    "    var_sam = np.var(sam)\n",
    "    mean[i] = mean_sam\n",
    "    var[i] = var_sam\n",
    "\n",
    "#Calculate the sample correlation coefficient r\n",
    "mean_mean = np.mean(mean)\n",
    "var_mean = np.mean(var)\n",
    "mean_sd = np.std(mean)\n",
    "var_sd = np.std(var)\n",
    "r = np.sum((mean-mean_mean)*(var-var_mean))/((N-1)*mean_sd*var_sd)\n",
    "print(\"The sample correlation of the sample mean and sample variance from the samples is\", r, \".\")"
   ]
  }
 ],
 "metadata": {
  "kernelspec": {
   "display_name": "Python 3",
   "language": "python",
   "name": "python3"
  },
  "language_info": {
   "codemirror_mode": {
    "name": "ipython",
    "version": 3
   },
   "file_extension": ".py",
   "mimetype": "text/x-python",
   "name": "python",
   "nbconvert_exporter": "python",
   "pygments_lexer": "ipython3",
   "version": "3.7.0"
  }
 },
 "nbformat": 4,
 "nbformat_minor": 2
}
