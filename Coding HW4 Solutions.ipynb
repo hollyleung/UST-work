{
 "cells": [
  {
   "cell_type": "code",
   "execution_count": 1,
   "metadata": {},
   "outputs": [],
   "source": [
    "#This code may take a minute or more to run due to a large sample size\n",
    "#This block has an import statement and initializes an array that is used in common by parts 1,2 and 3\n",
    "import numpy as np\n",
    "X = [] # will contain 100000 sets of 10 poisson vars of lambda 10, it will later be updated to have 100000 sets of 1000 poisson vars\n",
    "for i in range(0,100000):\n",
    "    X.append(np.random.poisson(10, 10))"
   ]
  },
  {
   "cell_type": "code",
   "execution_count": 2,
   "metadata": {},
   "outputs": [
    {
     "name": "stdout",
     "output_type": "stream",
     "text": [
      "The MSE of the sample mean is 1.000729029206292\n"
     ]
    }
   ],
   "source": [
    "#PART 1\n",
    "#MSE(Estimator) = Var(Estimator) + Bias^2(Estimator)\n",
    "#Bias(Estimator) = E[Estimator - Parameter] = 0, since the expected value of the Estimator, sample mean is the parameter lamda\n",
    "X_sample_means = []\n",
    "for item in X:\n",
    "    X_sample_means.append(np.mean(item))\n",
    "\n",
    "print(\"The MSE of the sample mean is \"+str(np.var(X_sample_means,ddof=1)))"
   ]
  },
  {
   "cell_type": "code",
   "execution_count": 3,
   "metadata": {},
   "outputs": [
    {
     "name": "stdout",
     "output_type": "stream",
     "text": [
      "The MSE of the sample variance is 23.243520096086097\n"
     ]
    }
   ],
   "source": [
    "#PART 2\n",
    "#E[var-lambda] = 0 so bias =0 so MSE( sample var) = Var(sample var) in estimating lambda\n",
    "X_sample_vars = []\n",
    "for item in X:\n",
    "    X_sample_vars.append(np.var(item,ddof=1))\n",
    "\n",
    "print(\"The MSE of the sample variance is \"+str(np.var(X_sample_vars,ddof=1)))"
   ]
  },
  {
   "cell_type": "code",
   "execution_count": 4,
   "metadata": {},
   "outputs": [
    {
     "name": "stdout",
     "output_type": "stream",
     "text": [
      "The relative efficiency is 23.226587235628834\n",
      "This shows the sample mean is a better estimator of lambda thsn the sample variance\n"
     ]
    }
   ],
   "source": [
    "#PART 3\n",
    "#Relative efficiency sample mean:sample var in estimating lambda = MSE(sample var)/MSE(sample mean)\n",
    "print(\"The relative efficiency is \"+str(np.var(X_sample_vars,ddof=1)/np.var(X_sample_means,ddof=1)))\n",
    "print('This shows the sample mean is a better estimator of lambda than the sample variance')\n",
    "#The expected value is 23.222/1 = 23.222"
   ]
  },
  {
   "cell_type": "code",
   "execution_count": 5,
   "metadata": {},
   "outputs": [
    {
     "name": "stdout",
     "output_type": "stream",
     "text": [
      "The relative efficiency is now 20.884174566409623\n"
     ]
    }
   ],
   "source": [
    "#PART 4\n",
    "X = [] # will now have 100000 sets of 1000 poisson vars\n",
    "for i in range(0,100000):\n",
    "    X.append(np.random.poisson(10, 1000))\n",
    "X_sample_means = []\n",
    "for item in X:\n",
    "    X_sample_means.append(np.mean(item))\n",
    "X_sample_vars = []\n",
    "for item in X:\n",
    "    X_sample_vars.append(np.var(item,ddof=1))\n",
    "print(\"The relative efficiency is now \"+str(np.var(X_sample_vars,ddof=1)/np.var(X_sample_means,ddof=1)))\n",
    "#The expected value is 0.2102002/0.01 = 21.02"
   ]
  },
  {
   "cell_type": "code",
   "execution_count": 6,
   "metadata": {},
   "outputs": [],
   "source": [
    "#The relative efficiency of part 3 is 23.126 which is close to the mathematically expected value of 23.22\n",
    "#The relative efficiency of part 4 is 21.07 which is also very close to what we would mathematically expect which is 21.02\n",
    "#The relative efficiency of part 3 is indeed greater than that found in part 4 as we would expect"
   ]
  },
  {
   "cell_type": "code",
   "execution_count": null,
   "metadata": {},
   "outputs": [],
   "source": []
  }
 ],
 "metadata": {
  "kernelspec": {
   "display_name": "Python 3",
   "language": "python",
   "name": "python3"
  },
  "language_info": {
   "codemirror_mode": {
    "name": "ipython",
    "version": 3
   },
   "file_extension": ".py",
   "mimetype": "text/x-python",
   "name": "python",
   "nbconvert_exporter": "python",
   "pygments_lexer": "ipython3",
   "version": "3.7.1"
  }
 },
 "nbformat": 4,
 "nbformat_minor": 2
}
